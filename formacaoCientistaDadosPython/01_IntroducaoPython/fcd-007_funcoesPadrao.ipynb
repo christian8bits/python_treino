{
 "cells": [
  {
   "cell_type": "markdown",
   "metadata": {},
   "source": [
    "# Funções Padrão"
   ]
  },
  {
   "cell_type": "code",
   "execution_count": 1,
   "metadata": {},
   "outputs": [
    {
     "name": "stdout",
     "output_type": "stream",
     "text": [
      "200\n",
      "Maior valor:  45\n",
      "Menor valor:  1\n",
      "Soma:  108\n",
      "Arredondamento:  2.35\n"
     ]
    }
   ],
   "source": [
    "# funções internas\n",
    "print(abs(-200))\n",
    "lst = [1,2,30,30,45]\n",
    "print(\"Maior valor: \", max(lst))\n",
    "print(\"Menor valor: \", min(lst))\n",
    "print(\"Soma: \", sum(lst))\n",
    "print(\"Arredondamento: \", round(2.34567,2))"
   ]
  },
  {
   "cell_type": "code",
   "execution_count": 2,
   "metadata": {},
   "outputs": [
    {
     "name": "stdout",
     "output_type": "stream",
     "text": [
      "Média:  21.6\n",
      "Mediana:  30\n",
      "Moda:  30\n"
     ]
    }
   ],
   "source": [
    "# estatistica\n",
    "from statistics import *\n",
    "print(\"Média: \", mean(lst))\n",
    "print(\"Mediana: \", median(lst))\n",
    "print(\"Moda: \", mode(lst))"
   ]
  },
  {
   "cell_type": "code",
   "execution_count": 3,
   "metadata": {},
   "outputs": [
    {
     "name": "stdout",
     "output_type": "stream",
     "text": [
      "Desvio padrão:  19.346834366376324\n"
     ]
    }
   ],
   "source": [
    "# desvio padrão da amostra\n",
    "print(\"Desvio padrão: \", stdev(lst))"
   ]
  },
  {
   "cell_type": "code",
   "execution_count": 4,
   "metadata": {},
   "outputs": [
    {
     "name": "stdout",
     "output_type": "stream",
     "text": [
      "Variância:  374.3\n"
     ]
    }
   ],
   "source": [
    "# variancia da amostra\n",
    "print(\"Variância: \", variance(lst))"
   ]
  },
  {
   "cell_type": "code",
   "execution_count": 5,
   "metadata": {},
   "outputs": [
    {
     "name": "stdout",
     "output_type": "stream",
     "text": [
      "<class 'numpy.ndarray'>\n",
      "[[0.06572331 0.14137583 0.74272983 0.65891897 0.9159539  0.63392205\n",
      "  0.51482044 0.72021828]\n",
      " [0.08289049 0.00947804 0.71083294 0.10951221 0.40296413 0.08244061\n",
      "  0.95434791 0.63391637]\n",
      " [0.33910442 0.96893256 0.66369142 0.2665715  0.45543542 0.37908489\n",
      "  0.32066531 0.33766917]\n",
      " [0.3573518  0.97464457 0.7996936  0.6215728  0.79120576 0.83792469\n",
      "  0.13454993 0.04379197]\n",
      " [0.27601044 0.13451928 0.99736177 0.43095525 0.72977448 0.74173537\n",
      "  0.27723235 0.29982161]\n",
      " [0.31482758 0.49809869 0.05351993 0.37094833 0.7870367  0.94923294\n",
      "  0.92343669 0.95497811]\n",
      " [0.39509936 0.84833304 0.79715499 0.54752427 0.6042951  0.99580903\n",
      "  0.36283447 0.43557968]\n",
      " [0.71543493 0.34834769 0.13605803 0.62355077 0.6076239  0.07059203\n",
      "  0.97345194 0.36171744]]\n"
     ]
    }
   ],
   "source": [
    "from numpy import *\n",
    "a = random.random((8,8))\n",
    "print(type(a))\n",
    "print(a)"
   ]
  },
  {
   "cell_type": "code",
   "execution_count": null,
   "metadata": {},
   "outputs": [],
   "source": []
  }
 ],
 "metadata": {
  "kernelspec": {
   "display_name": "Python 3 (ipykernel)",
   "language": "python",
   "name": "python3"
  },
  "language_info": {
   "codemirror_mode": {
    "name": "ipython",
    "version": 3
   },
   "file_extension": ".py",
   "mimetype": "text/x-python",
   "name": "python",
   "nbconvert_exporter": "python",
   "pygments_lexer": "ipython3",
   "version": "3.8.10"
  }
 },
 "nbformat": 4,
 "nbformat_minor": 4
}
